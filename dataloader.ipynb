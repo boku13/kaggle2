{
 "cells": [
  {
   "cell_type": "code",
   "execution_count": 9,
   "metadata": {},
   "outputs": [
    {
     "data": {
      "image/png": "[encoded data removed]",
      "text/plain": [
       "<Figure size 1200x1200 with 4 Axes>"
      ]
     },
     "metadata": {},
     "output_type": "display_data"
    }
   ],
   "source": [
    "import pandas as pd\n",
    "import torch\n",
    "from torch.utils.data import Dataset, DataLoader\n",
    "from torchvision import transforms\n",
    "import numpy as np\n",
    "\n",
    "class CSVImageDataset(Dataset):\n",
    "    def __init__(self, csv_file, transform=None):\n",
    "        \"\"\"\n",
    "        Args:\n",
    "            csv_file (string): Path to the csv file.\n",
    "            transform (callable, optional): Optional transform to be applied on a sample.\n",
    "        \"\"\"\n",
    "        self.data_frame = pd.read_csv(csv_file)\n",
    "\n",
    "        # Drop 'id' column if it exists\n",
    "        if 'id' in self.data_frame.columns:\n",
    "            self.data_frame.drop(columns=['id'], inplace=True)\n",
    "\n",
    "        self.transform = transform\n",
    "\n",
    "    def __len__(self):\n",
    "        return len(self.data_frame)\n",
    "\n",
    "    def __getitem__(self, idx):\n",
    "        if torch.is_tensor(idx):\n",
    "            idx = idx.tolist()\n",
    "\n",
    "        # Assuming first column is 'label' after dropping 'id'\n",
    "        image = self.data_frame.iloc[idx, :-1].to_numpy()\n",
    "        image = image.astype('float').reshape(28, 28)  # Reshape to 28x28\n",
    "        label = int(self.data_frame.iloc[idx, -1])  # First column is 'label'\n",
    "\n",
    "        if self.transform:\n",
    "            image = self.transform(image)\n",
    "\n",
    "        return image, label\n",
    "\n",
    "# Example usage\n",
    "# transform = transforms.Compose([\n",
    "#     transforms.ToTensor(),\n",
    "#     transforms.Normalize((0.5,), (0.5,))  # Example normalization\n",
    "# ])\n",
    "\n",
    "csv_dataset = CSVImageDataset('train.csv')\n",
    "dataloader = DataLoader(csv_dataset, batch_size=4)\n",
    "\n",
    "import matplotlib.pyplot as plt\n",
    "\n",
    "# Iterate through the DataLoader\n",
    "for i, (images, labels) in enumerate(dataloader):\n",
    "    # Display images from the first batch\n",
    "    if i == 0:\n",
    "        fig, axes = plt.subplots(1, len(images), figsize=(12, 12))\n",
    "        for idx, image in enumerate(images):\n",
    "            # Convert the tensor to a NumPy array and normalize it to the range [0, 1]\n",
    "            img = image.numpy().squeeze() * 0.5 + 0.5  # assuming normalization of (0.5, 0.5)\n",
    "            ax = axes[idx]\n",
    "            ax.imshow(img, cmap='gray')\n",
    "            ax.axis('off')\n",
    "            ax.set_title(f'Label: {labels[idx]}')\n",
    "        plt.show()\n",
    "    break  # Only process the first batch"
   ]
  },
  {
   "cell_type": "markdown",
   "metadata": {},
   "source": []
  },
  {
   "cell_type": "code",
   "execution_count": null,
   "metadata": {},
   "outputs": [],
   "source": []
  }
 ],
 "metadata": {
  "kernelspec": {
   "display_name": "deeplearning",
   "language": "python",
   "name": "python3"
  },
  "language_info": {
   "codemirror_mode": {
    "name": "ipython",
    "version": 3
   },
   "file_extension": ".py",
   "mimetype": "text/x-python",
   "name": "python",
   "nbconvert_exporter": "python",
   "pygments_lexer": "ipython3",
   "version": "3.11.4"
  }
 },
 "nbformat": 4,
 "nbformat_minor": 2
}
